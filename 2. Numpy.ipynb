{
 "cells": [
  {
   "cell_type": "markdown",
   "id": "c854f5c0-1908-4ad3-8e2c-e73bb8ea7e97",
   "metadata": {},
   "source": [
    "# Numpy"
   ]
  },
  {
   "cell_type": "markdown",
   "id": "86d39c64-e403-4328-953b-7e04848e4a33",
   "metadata": {},
   "source": [
    "## Numpy 배열(Array) 생성하기\n",
    "1) array 함수를 사용하여 배열 생성하기\n",
    "2) zeros, ones, empty 함수를 사용하여 배열 생성하기\n",
    "3) arange 함수를 사용하여 배열 생성하기"
   ]
  },
  {
   "cell_type": "code",
   "execution_count": 2,
   "id": "7e099018-c6ce-4176-969f-bef7d02cce7a",
   "metadata": {},
   "outputs": [],
   "source": [
    "import numpy as np"
   ]
  },
  {
   "cell_type": "markdown",
   "id": "5495baf4-9745-4e78-8c23-2c8755f36398",
   "metadata": {},
   "source": [
    "### 1 차원 배열 생성하기"
   ]
  },
  {
   "cell_type": "code",
   "execution_count": 26,
   "id": "6874f1b5-0195-45fd-afea-0d82cb8eadd0",
   "metadata": {},
   "outputs": [
    {
     "data": {
      "text/plain": [
       "array([1, 2, 3, 4, 5])"
      ]
     },
     "execution_count": 26,
     "metadata": {},
     "output_type": "execute_result"
    }
   ],
   "source": [
    "array = np.array([1, 2, 3, 4, 5])  # data type이 같아야 함\n",
    "array"
   ]
  },
  {
   "cell_type": "code",
   "execution_count": 5,
   "id": "efbf8e65-d65f-4bf3-9a29-ea998cd2d678",
   "metadata": {},
   "outputs": [
    {
     "data": {
      "text/plain": [
       "(5,)"
      ]
     },
     "execution_count": 5,
     "metadata": {},
     "output_type": "execute_result"
    }
   ],
   "source": [
    "array.shape  # 데이터 수"
   ]
  },
  {
   "cell_type": "code",
   "execution_count": 6,
   "id": "943ef57a-f2d4-4072-9bb0-024ebf4523e2",
   "metadata": {},
   "outputs": [
    {
     "data": {
      "text/plain": [
       "1"
      ]
     },
     "execution_count": 6,
     "metadata": {},
     "output_type": "execute_result"
    }
   ],
   "source": [
    "array.ndim  # 차원수"
   ]
  },
  {
   "cell_type": "code",
   "execution_count": 7,
   "id": "2d504f48-e4bc-4046-abf7-3a111053e1dc",
   "metadata": {},
   "outputs": [
    {
     "data": {
      "text/plain": [
       "dtype('int32')"
      ]
     },
     "execution_count": 7,
     "metadata": {},
     "output_type": "execute_result"
    }
   ],
   "source": [
    "array.dtype  # 데이터 형식"
   ]
  },
  {
   "cell_type": "markdown",
   "id": "a9db9d00-22d0-4b05-9f30-bf585a6b374f",
   "metadata": {},
   "source": [
    "### 배열 확인 함수 만들기"
   ]
  },
  {
   "cell_type": "code",
   "execution_count": 27,
   "id": "fc17f613-260a-4561-b02c-d04c005e944b",
   "metadata": {},
   "outputs": [],
   "source": [
    "def printinfo(array):\n",
    "    print(\"shape : {}, dimension: {}, dtype: {}\".format(array.shape, array.ndim, array.dtype))"
   ]
  },
  {
   "cell_type": "code",
   "execution_count": 9,
   "id": "d7dd743b-a279-4c20-869b-b80098970021",
   "metadata": {},
   "outputs": [
    {
     "name": "stdout",
     "output_type": "stream",
     "text": [
      "shape : (5,), dimension: 1, dtype: int32\n"
     ]
    }
   ],
   "source": [
    "printinfo(array)"
   ]
  },
  {
   "cell_type": "markdown",
   "id": "958702da-f673-4856-b97e-88f24190c313",
   "metadata": {},
   "source": [
    "### 2차원 배열 생성하기"
   ]
  },
  {
   "cell_type": "code",
   "execution_count": 28,
   "id": "bf947fe7-ab9d-4d61-939b-27df06b6eef2",
   "metadata": {},
   "outputs": [
    {
     "data": {
      "text/plain": [
       "array([[1., 2., 3.],\n",
       "       [4., 5., 6.]])"
      ]
     },
     "execution_count": 28,
     "metadata": {},
     "output_type": "execute_result"
    }
   ],
   "source": [
    "list = [[1, 2, 3], [4, 5, 6]]\n",
    "array2 = np.array(list, dtype=float)\n",
    "array2"
   ]
  },
  {
   "cell_type": "code",
   "execution_count": 14,
   "id": "a82a4551-579a-4639-9659-4892bbe611df",
   "metadata": {},
   "outputs": [
    {
     "name": "stdout",
     "output_type": "stream",
     "text": [
      "shape : (2, 3), dimension: 2, dtype: float64\n"
     ]
    }
   ],
   "source": [
    "printinfo(array2)"
   ]
  },
  {
   "cell_type": "markdown",
   "id": "af17c8b8-9a91-41bc-b3a6-d9188275a9d8",
   "metadata": {},
   "source": [
    "### 3 차원 배열 생성하기"
   ]
  },
  {
   "cell_type": "code",
   "execution_count": 29,
   "id": "d856f05f-75f8-469e-b148-9bb8254189d2",
   "metadata": {},
   "outputs": [
    {
     "data": {
      "text/plain": [
       "array([[[ 1,  2,  3],\n",
       "        [ 4,  5,  6]],\n",
       "\n",
       "       [[ 7,  8,  9],\n",
       "        [10, 11, 12]]])"
      ]
     },
     "execution_count": 29,
     "metadata": {},
     "output_type": "execute_result"
    }
   ],
   "source": [
    "list = [[[1, 2, 3], [4, 5, 6]], [[7, 8, 9], [10, 11, 12]]]\n",
    "array3 = np.array(list)\n",
    "array3"
   ]
  },
  {
   "cell_type": "code",
   "execution_count": 16,
   "id": "c41d77ca-a5c1-472a-a790-4d7d6ba25924",
   "metadata": {},
   "outputs": [
    {
     "name": "stdout",
     "output_type": "stream",
     "text": [
      "shape : (2, 2, 3), dimension: 3, dtype: int32\n"
     ]
    }
   ],
   "source": [
    "printinfo(array3)"
   ]
  },
  {
   "cell_type": "markdown",
   "id": "c45e8c2c-57c2-4d63-b5ba-a5270d252f4f",
   "metadata": {},
   "source": [
    "### zeros, ones, empty, arange"
   ]
  },
  {
   "cell_type": "code",
   "execution_count": 19,
   "id": "9615cddc-eacc-4b2d-af87-897e308043f4",
   "metadata": {},
   "outputs": [
    {
     "data": {
      "text/plain": [
       "array([[0., 0., 0.],\n",
       "       [0., 0., 0.],\n",
       "       [0., 0., 0.]])"
      ]
     },
     "execution_count": 19,
     "metadata": {},
     "output_type": "execute_result"
    }
   ],
   "source": [
    "# zeros()\n",
    "np.zeros((3, 3))"
   ]
  },
  {
   "cell_type": "code",
   "execution_count": 18,
   "id": "0b55dd39-8826-4783-9ae7-923dc2465940",
   "metadata": {},
   "outputs": [
    {
     "data": {
      "text/plain": [
       "array([[1., 1., 1.],\n",
       "       [1., 1., 1.]])"
      ]
     },
     "execution_count": 18,
     "metadata": {},
     "output_type": "execute_result"
    }
   ],
   "source": [
    "# ones()\n",
    "np.ones((2, 3))"
   ]
  },
  {
   "cell_type": "code",
   "execution_count": 20,
   "id": "20105749-2614-41c3-a790-e935ce620fbc",
   "metadata": {},
   "outputs": [
    {
     "data": {
      "text/plain": [
       "array([[6.23042070e-307, 4.67296746e-307, 1.69121096e-306,\n",
       "        1.20161865e-306],\n",
       "       [8.34441742e-308, 1.78022342e-306, 6.23058028e-307,\n",
       "        9.79107872e-307],\n",
       "       [6.89807188e-307, 7.56594375e-307, 6.23060065e-307,\n",
       "        1.78021527e-306],\n",
       "       [8.34454050e-308, 1.11261027e-306, 1.15706896e-306,\n",
       "        1.33512173e-306]])"
      ]
     },
     "execution_count": 20,
     "metadata": {},
     "output_type": "execute_result"
    }
   ],
   "source": [
    "# empty()\n",
    "np.empty((4, 4))"
   ]
  },
  {
   "cell_type": "code",
   "execution_count": 23,
   "id": "86d9a99f-5ecf-46fd-be81-d5ccfe58854b",
   "metadata": {},
   "outputs": [
    {
     "data": {
      "text/plain": [
       "array([0, 1, 2, 3, 4, 5, 6, 7, 8, 9])"
      ]
     },
     "execution_count": 23,
     "metadata": {},
     "output_type": "execute_result"
    }
   ],
   "source": [
    "# arange()\n",
    "array4 = np.arange(10)\n",
    "array4"
   ]
  },
  {
   "cell_type": "code",
   "execution_count": 24,
   "id": "fc6c50da-9006-4d11-ab93-6c4df316175e",
   "metadata": {},
   "outputs": [
    {
     "name": "stdout",
     "output_type": "stream",
     "text": [
      "shape : (10,), dimension: 1, dtype: int32\n"
     ]
    }
   ],
   "source": [
    "printinfo(array4)"
   ]
  },
  {
   "cell_type": "code",
   "execution_count": 25,
   "id": "3ac5ff57-9da6-442f-aa6d-09c68c595a87",
   "metadata": {},
   "outputs": [
    {
     "data": {
      "text/plain": [
       "array([ 0,  2,  4,  6,  8, 10])"
      ]
     },
     "execution_count": 25,
     "metadata": {},
     "output_type": "execute_result"
    }
   ],
   "source": [
    "array5 = np.arange(0,11,2)\n",
    "array5"
   ]
  },
  {
   "cell_type": "markdown",
   "id": "3025015c-1582-4b4c-92e6-656dd2bb9968",
   "metadata": {},
   "source": [
    "### ndarray 타입 변환 : astype() 함수 이용\n",
    "- 정수형 데이터 배열을 실수형 데이터 배열로 변환하기"
   ]
  },
  {
   "cell_type": "code",
   "execution_count": 31,
   "id": "4a9d8fe6-3b5a-44e4-8d70-7e45a8e753df",
   "metadata": {},
   "outputs": [
    {
     "data": {
      "text/plain": [
       "array([1, 2, 3, 4, 5])"
      ]
     },
     "execution_count": 31,
     "metadata": {},
     "output_type": "execute_result"
    }
   ],
   "source": [
    "arr_int = np.array([1,2,3,4,5])\n",
    "arr_int"
   ]
  },
  {
   "cell_type": "code",
   "execution_count": 32,
   "id": "9da756b4-daff-40c0-a6c1-7d2c093dda7d",
   "metadata": {},
   "outputs": [
    {
     "data": {
      "text/plain": [
       "dtype('int32')"
      ]
     },
     "execution_count": 32,
     "metadata": {},
     "output_type": "execute_result"
    }
   ],
   "source": [
    "arr_int.dtype"
   ]
  },
  {
   "cell_type": "code",
   "execution_count": 33,
   "id": "ce7152ac-4430-4188-905d-cac3334109c5",
   "metadata": {},
   "outputs": [
    {
     "data": {
      "text/plain": [
       "dtype('float64')"
      ]
     },
     "execution_count": 33,
     "metadata": {},
     "output_type": "execute_result"
    }
   ],
   "source": [
    "arr_float = arr_int.astype(np.float64)\n",
    "arr_float.dtype"
   ]
  },
  {
   "cell_type": "markdown",
   "id": "27561688-6d67-40a6-9a4c-2be573842994",
   "metadata": {},
   "source": [
    "- 문자형 데이터 배열을 정수형 데이터 배열로 변환하기"
   ]
  },
  {
   "cell_type": "code",
   "execution_count": 34,
   "id": "d573f41d-4357-4c5e-b95d-85a9775c9b5f",
   "metadata": {},
   "outputs": [
    {
     "data": {
      "text/plain": [
       "dtype('<U1')"
      ]
     },
     "execution_count": 34,
     "metadata": {},
     "output_type": "execute_result"
    }
   ],
   "source": [
    "arr_str = np.array(['1', '2', '3'])\n",
    "arr_str.dtype"
   ]
  },
  {
   "cell_type": "code",
   "execution_count": 36,
   "id": "f274666d-1cd3-463d-a04a-5636475c6eb1",
   "metadata": {},
   "outputs": [
    {
     "data": {
      "text/plain": [
       "dtype('int32')"
      ]
     },
     "execution_count": 36,
     "metadata": {},
     "output_type": "execute_result"
    }
   ],
   "source": [
    "arr_int = arr_str.astype(np.int32)\n",
    "arr_int.dtype"
   ]
  },
  {
   "cell_type": "markdown",
   "id": "5c4a911b-7bcd-40bc-8ff9-b5168a869ac2",
   "metadata": {},
   "source": [
    "### ndarray의 차원과 크기를 변경 : reshape()\n",
    "- 1차원 -> 2차원으로 reshape"
   ]
  },
  {
   "cell_type": "code",
   "execution_count": 3,
   "id": "f02422fd-6452-40b1-8fb2-0caafba1f77e",
   "metadata": {},
   "outputs": [
    {
     "data": {
      "text/plain": [
       "array([0, 1, 2, 3, 4, 5, 6, 7, 8, 9])"
      ]
     },
     "execution_count": 3,
     "metadata": {},
     "output_type": "execute_result"
    }
   ],
   "source": [
    "arr1 = np.arange(10)\n",
    "arr1"
   ]
  },
  {
   "cell_type": "code",
   "execution_count": 5,
   "id": "08155903-7166-4adc-b40b-4f77a7f85dbe",
   "metadata": {},
   "outputs": [
    {
     "data": {
      "text/plain": [
       "array([[0, 1, 2, 3, 4],\n",
       "       [5, 6, 7, 8, 9]])"
      ]
     },
     "execution_count": 5,
     "metadata": {},
     "output_type": "execute_result"
    }
   ],
   "source": [
    "arr2 = arr1.reshape((2, 5))\n",
    "arr2"
   ]
  },
  {
   "cell_type": "code",
   "execution_count": 6,
   "id": "68b6e35e-7501-433c-951d-9dc6a6a7ed06",
   "metadata": {},
   "outputs": [
    {
     "data": {
      "text/plain": [
       "array([[0, 1],\n",
       "       [2, 3],\n",
       "       [4, 5],\n",
       "       [6, 7],\n",
       "       [8, 9]])"
      ]
     },
     "execution_count": 6,
     "metadata": {},
     "output_type": "execute_result"
    }
   ],
   "source": [
    "arr2 = arr1.reshape((5, 2))\n",
    "arr2"
   ]
  },
  {
   "cell_type": "markdown",
   "id": "58db2b9d-a2be-4edd-95f5-4757f6dd3688",
   "metadata": {},
   "source": [
    "- reshape(-1, 1) or reshape(-1,)"
   ]
  },
  {
   "cell_type": "code",
   "execution_count": 8,
   "id": "d2fa2706-527d-4b9b-9395-dd5268097d55",
   "metadata": {},
   "outputs": [
    {
     "data": {
      "text/plain": [
       "array([0, 1, 2, 3, 4, 5])"
      ]
     },
     "execution_count": 8,
     "metadata": {},
     "output_type": "execute_result"
    }
   ],
   "source": [
    "arr1 = np.arange(6)\n",
    "arr1"
   ]
  },
  {
   "cell_type": "code",
   "execution_count": 10,
   "id": "1e0ae824-fbae-4fd3-81df-5c2f7ff2e425",
   "metadata": {},
   "outputs": [
    {
     "data": {
      "text/plain": [
       "array([[0, 1],\n",
       "       [2, 3],\n",
       "       [4, 5]])"
      ]
     },
     "execution_count": 10,
     "metadata": {},
     "output_type": "execute_result"
    }
   ],
   "source": [
    "arr2 = arr1.reshape(-1, 2)  # -1을 입력하면 자동으로 계산\n",
    "arr2"
   ]
  },
  {
   "cell_type": "code",
   "execution_count": 11,
   "id": "a9b38301-56a1-4065-8e9c-e16be15e1455",
   "metadata": {},
   "outputs": [
    {
     "data": {
      "text/plain": [
       "array([[0],\n",
       "       [1],\n",
       "       [2],\n",
       "       [3],\n",
       "       [4],\n",
       "       [5]])"
      ]
     },
     "execution_count": 11,
     "metadata": {},
     "output_type": "execute_result"
    }
   ],
   "source": [
    "arr3 = arr2.reshape(-1, 1)\n",
    "arr3"
   ]
  },
  {
   "cell_type": "markdown",
   "id": "d398fad8-231e-48aa-9ffb-f88f0554bd6d",
   "metadata": {},
   "source": [
    "### ndarray의 데이터 선택하기 : 인덱싱(indexing)\n",
    "#### 단일 값 추출\n",
    "- 1차원 ndarray 인덱싱"
   ]
  },
  {
   "cell_type": "code",
   "execution_count": 13,
   "id": "e649bdbb-715f-47a9-8465-e20ce734518b",
   "metadata": {},
   "outputs": [
    {
     "data": {
      "text/plain": [
       "array([1, 2, 3, 4, 5, 6, 7, 8, 9])"
      ]
     },
     "execution_count": 13,
     "metadata": {},
     "output_type": "execute_result"
    }
   ],
   "source": [
    "arr = np.arange(1,10)\n",
    "arr"
   ]
  },
  {
   "cell_type": "code",
   "execution_count": 16,
   "id": "c812f65c-67de-4e2e-9fc0-28beb731330f",
   "metadata": {},
   "outputs": [
    {
     "data": {
      "text/plain": [
       "4"
      ]
     },
     "execution_count": 16,
     "metadata": {},
     "output_type": "execute_result"
    }
   ],
   "source": [
    "arr[3]  # 0부터 시작 (왼쪽에서 오른쪽 방향)"
   ]
  },
  {
   "cell_type": "code",
   "execution_count": 17,
   "id": "29403471-d1f2-4a1a-9534-a830c9c6b703",
   "metadata": {},
   "outputs": [
    {
     "data": {
      "text/plain": [
       "9"
      ]
     },
     "execution_count": 17,
     "metadata": {},
     "output_type": "execute_result"
    }
   ],
   "source": [
    "arr[-1]  # -1부터 시작 (오른쪽에서 왼쪽 방향)"
   ]
  },
  {
   "cell_type": "markdown",
   "id": "83e26d3c-f89f-4d3d-8f14-a35d126c3328",
   "metadata": {},
   "source": [
    "- 2차원 ndarray 인덱싱"
   ]
  },
  {
   "cell_type": "code",
   "execution_count": 18,
   "id": "20c56daa-e33c-4d50-b329-5e0c37480b95",
   "metadata": {},
   "outputs": [
    {
     "data": {
      "text/plain": [
       "array([[1, 2, 3],\n",
       "       [4, 5, 6],\n",
       "       [7, 8, 9]])"
      ]
     },
     "execution_count": 18,
     "metadata": {},
     "output_type": "execute_result"
    }
   ],
   "source": [
    "arr = np.arange(1, 10).reshape(3,3)\n",
    "arr"
   ]
  },
  {
   "cell_type": "code",
   "execution_count": 20,
   "id": "1ceb5b06-d4c5-49e5-bde5-8d18b7ffd5ee",
   "metadata": {},
   "outputs": [
    {
     "data": {
      "text/plain": [
       "2"
      ]
     },
     "execution_count": 20,
     "metadata": {},
     "output_type": "execute_result"
    }
   ],
   "source": [
    "arr[0, 1]   # 행, 열 "
   ]
  },
  {
   "cell_type": "code",
   "execution_count": 22,
   "id": "579668ca-ac27-486e-a4c8-c2b0c3219f4c",
   "metadata": {},
   "outputs": [
    {
     "data": {
      "text/plain": [
       "6"
      ]
     },
     "execution_count": 22,
     "metadata": {},
     "output_type": "execute_result"
    }
   ],
   "source": [
    "arr[1, 2]"
   ]
  },
  {
   "cell_type": "markdown",
   "id": "3ee08c1e-8139-44a5-b5a7-d1a8ae9b8f8d",
   "metadata": {},
   "source": [
    "### 슬라이싱(slicing)\n",
    "- 1차원 ndarray의 슬라이싱"
   ]
  },
  {
   "cell_type": "code",
   "execution_count": 23,
   "id": "593963f2-b032-41b5-9a6e-beabf2aa1a62",
   "metadata": {},
   "outputs": [
    {
     "data": {
      "text/plain": [
       "array([1, 2, 3, 4, 5, 6, 7, 8, 9])"
      ]
     },
     "execution_count": 23,
     "metadata": {},
     "output_type": "execute_result"
    }
   ],
   "source": [
    "arr = np.arange(1, 10)\n",
    "arr"
   ]
  },
  {
   "cell_type": "code",
   "execution_count": 24,
   "id": "d1781e35-9339-4257-b5a4-42787fd08234",
   "metadata": {},
   "outputs": [
    {
     "data": {
      "text/plain": [
       "array([1, 2, 3])"
      ]
     },
     "execution_count": 24,
     "metadata": {},
     "output_type": "execute_result"
    }
   ],
   "source": [
    "arr[0:3]  # 0부터 3미만"
   ]
  },
  {
   "cell_type": "code",
   "execution_count": 25,
   "id": "fc8bda87-ec0a-49dc-9af4-2b0af3a21f97",
   "metadata": {},
   "outputs": [
    {
     "data": {
      "text/plain": [
       "array([1, 2, 3])"
      ]
     },
     "execution_count": 25,
     "metadata": {},
     "output_type": "execute_result"
    }
   ],
   "source": [
    "arr[:3]  # 0 생략 가능"
   ]
  },
  {
   "cell_type": "code",
   "execution_count": 26,
   "id": "a9695ea3-2d9d-44b3-8b2a-35a6ef845a1c",
   "metadata": {},
   "outputs": [
    {
     "data": {
      "text/plain": [
       "array([4, 5, 6, 7, 8, 9])"
      ]
     },
     "execution_count": 26,
     "metadata": {},
     "output_type": "execute_result"
    }
   ],
   "source": [
    "arr[3:]"
   ]
  },
  {
   "cell_type": "code",
   "execution_count": 28,
   "id": "9c8eeb31-2b59-4fc5-8595-46fa33a6e9a4",
   "metadata": {},
   "outputs": [
    {
     "data": {
      "text/plain": [
       "array([1, 2, 3, 4, 5, 6, 7, 8, 9])"
      ]
     },
     "execution_count": 28,
     "metadata": {},
     "output_type": "execute_result"
    }
   ],
   "source": [
    "arr[:] # 둘다 생략"
   ]
  },
  {
   "cell_type": "markdown",
   "id": "3c643edb-5b3c-4ba1-b9c4-d7ca14f1d763",
   "metadata": {},
   "source": [
    "- 2차원 ndarray의 슬라이싱"
   ]
  },
  {
   "cell_type": "code",
   "execution_count": 29,
   "id": "2ab1b048-c63f-45de-b7be-8709e34d19e9",
   "metadata": {},
   "outputs": [
    {
     "data": {
      "text/plain": [
       "array([[1, 2, 3],\n",
       "       [4, 5, 6],\n",
       "       [7, 8, 9]])"
      ]
     },
     "execution_count": 29,
     "metadata": {},
     "output_type": "execute_result"
    }
   ],
   "source": [
    "arr = np.arange(1, 10).reshape(3, 3)\n",
    "arr"
   ]
  },
  {
   "cell_type": "code",
   "execution_count": 31,
   "id": "4cd0e091-2a7a-4d43-a0fe-2955e4d7aed7",
   "metadata": {},
   "outputs": [
    {
     "data": {
      "text/plain": [
       "array([[2, 3],\n",
       "       [5, 6]])"
      ]
     },
     "execution_count": 31,
     "metadata": {},
     "output_type": "execute_result"
    }
   ],
   "source": [
    "arr[ 0:2 , 1:3 ]  # 행, 열"
   ]
  },
  {
   "cell_type": "code",
   "execution_count": 32,
   "id": "921facd3-6ab1-4c4f-8b7b-1139a64417f3",
   "metadata": {},
   "outputs": [
    {
     "data": {
      "text/plain": [
       "array([[4, 5, 6],\n",
       "       [7, 8, 9]])"
      ]
     },
     "execution_count": 32,
     "metadata": {},
     "output_type": "execute_result"
    }
   ],
   "source": [
    "arr[ 1:3, : ]"
   ]
  },
  {
   "cell_type": "code",
   "execution_count": 33,
   "id": "291d10cc-b4ac-499c-a594-1837d8a9d40b",
   "metadata": {},
   "outputs": [
    {
     "data": {
      "text/plain": [
       "array([[2, 3],\n",
       "       [5, 6]])"
      ]
     },
     "execution_count": 33,
     "metadata": {},
     "output_type": "execute_result"
    }
   ],
   "source": [
    "arr[ :2, 1: ]"
   ]
  },
  {
   "cell_type": "code",
   "execution_count": 34,
   "id": "533ae94c-a4d0-42dd-b5fa-bee6e98763d0",
   "metadata": {},
   "outputs": [
    {
     "data": {
      "text/plain": [
       "array([3, 6, 9])"
      ]
     },
     "execution_count": 34,
     "metadata": {},
     "output_type": "execute_result"
    }
   ],
   "source": [
    "arr[ : , 2]"
   ]
  },
  {
   "cell_type": "markdown",
   "id": "989a9e1c-10de-42d5-ad12-98dc81b83377",
   "metadata": {},
   "source": [
    "### 팬시 인덱싱\n",
    "- 리스트나 ndarray로 인덱스 집합을 지정하면 해당 위치의 인덱스에 해당하는 ndarray값을 반환하는 인덱싱 방법\n",
    "- 1차원 ndarray의 펜시 인덱싱"
   ]
  },
  {
   "cell_type": "code",
   "execution_count": 35,
   "id": "20b16b9e-df0a-4666-8def-fdb3ec6ae195",
   "metadata": {},
   "outputs": [
    {
     "data": {
      "text/plain": [
       "array([1, 2, 3, 4, 5, 6, 7, 8, 9])"
      ]
     },
     "execution_count": 35,
     "metadata": {},
     "output_type": "execute_result"
    }
   ],
   "source": [
    "arr = np.arange(1, 10)\n",
    "arr"
   ]
  },
  {
   "cell_type": "code",
   "execution_count": 36,
   "id": "e6baf6fa-5829-4bdc-8d92-a54b3391c76a",
   "metadata": {},
   "outputs": [
    {
     "data": {
      "text/plain": [
       "array([3, 5, 8])"
      ]
     },
     "execution_count": 36,
     "metadata": {},
     "output_type": "execute_result"
    }
   ],
   "source": [
    "arr[[2, 4 , 7]]"
   ]
  },
  {
   "cell_type": "markdown",
   "id": "d6314e81-7d55-40e9-95f8-910af6130386",
   "metadata": {},
   "source": [
    "- 2차원 ndarray의 펜시 인덱싱"
   ]
  },
  {
   "cell_type": "code",
   "execution_count": 37,
   "id": "32bddb43-85a5-4fff-9a95-fecbf25e7bd4",
   "metadata": {},
   "outputs": [
    {
     "data": {
      "text/plain": [
       "array([[1, 2, 3],\n",
       "       [4, 5, 6],\n",
       "       [7, 8, 9]])"
      ]
     },
     "execution_count": 37,
     "metadata": {},
     "output_type": "execute_result"
    }
   ],
   "source": [
    "arr = np.arange(1, 10).reshape(3, 3)\n",
    "arr"
   ]
  },
  {
   "cell_type": "code",
   "execution_count": 38,
   "id": "d1a57d46-ae16-4eb8-8836-b65de5481ccd",
   "metadata": {},
   "outputs": [
    {
     "data": {
      "text/plain": [
       "array([3, 6])"
      ]
     },
     "execution_count": 38,
     "metadata": {},
     "output_type": "execute_result"
    }
   ],
   "source": [
    "arr[[0, 1], 2]"
   ]
  },
  {
   "cell_type": "code",
   "execution_count": 39,
   "id": "1aca55db-016b-4639-acc6-6ce61a48dc3f",
   "metadata": {},
   "outputs": [
    {
     "data": {
      "text/plain": [
       "array([[4, 5],\n",
       "       [7, 8]])"
      ]
     },
     "execution_count": 39,
     "metadata": {},
     "output_type": "execute_result"
    }
   ],
   "source": [
    "arr[[1, 2], 0:2]"
   ]
  },
  {
   "cell_type": "code",
   "execution_count": 40,
   "id": "6e06cddc-6805-4bd6-afae-fa39ad0da694",
   "metadata": {},
   "outputs": [
    {
     "data": {
      "text/plain": [
       "array([[1, 2, 3],\n",
       "       [4, 5, 6]])"
      ]
     },
     "execution_count": 40,
     "metadata": {},
     "output_type": "execute_result"
    }
   ],
   "source": [
    "arr[[0, 1]]"
   ]
  },
  {
   "cell_type": "markdown",
   "id": "c04773cb-1667-494c-801a-0cb62429ebef",
   "metadata": {},
   "source": [
    "### 불린 인덱싱 (중요)\n",
    "- 특정 조건에 해당하는지 여부인 True/False 값 인덱싱 집합을 기반으로 True에 해당하는 인덱스 위치에 있는 ndarray 값을 반환\n",
    "- ndarray 내에서 5보다 큰 값을 추출하고자 한다면?"
   ]
  },
  {
   "cell_type": "code",
   "execution_count": 44,
   "id": "1a9c043e-dcaf-4465-bc04-14c924906104",
   "metadata": {},
   "outputs": [
    {
     "data": {
      "text/plain": [
       "array([5, 6, 7, 8])"
      ]
     },
     "execution_count": 44,
     "metadata": {},
     "output_type": "execute_result"
    }
   ],
   "source": [
    "# 불린 인덱싱을 사용하지 않는 경우\n",
    "arr = np.arange(1, 10)\n",
    "target = []\n",
    "\n",
    "for i in range(0, 9):\n",
    "    if arr[i] > 5:\n",
    "        target.append(i)\n",
    "\n",
    "result = np.array(target)\n",
    "result"
   ]
  },
  {
   "cell_type": "code",
   "execution_count": 45,
   "id": "25a1b75e-1bdd-4370-83f6-373a825002e4",
   "metadata": {},
   "outputs": [
    {
     "data": {
      "text/plain": [
       "array([False, False, False, False, False,  True,  True,  True,  True])"
      ]
     },
     "execution_count": 45,
     "metadata": {},
     "output_type": "execute_result"
    }
   ],
   "source": [
    "# 불린 인덱싱\n",
    "arr = np.arange(1,10)\n",
    "arr > 5"
   ]
  },
  {
   "cell_type": "code",
   "execution_count": 46,
   "id": "1b6ab61f-18d4-4a19-9ed7-bd22a4345510",
   "metadata": {},
   "outputs": [
    {
     "data": {
      "text/plain": [
       "array([6, 7, 8, 9])"
      ]
     },
     "execution_count": 46,
     "metadata": {},
     "output_type": "execute_result"
    }
   ],
   "source": [
    "arr[arr > 5]"
   ]
  },
  {
   "cell_type": "code",
   "execution_count": 47,
   "id": "cb327af8-a5b1-42f4-af2f-3ca313979d60",
   "metadata": {},
   "outputs": [
    {
     "data": {
      "text/plain": [
       "array([1, 2, 3, 4, 5])"
      ]
     },
     "execution_count": 47,
     "metadata": {},
     "output_type": "execute_result"
    }
   ],
   "source": [
    "arr[~(arr > 5)] # False 불러오기"
   ]
  },
  {
   "cell_type": "markdown",
   "id": "b939f596-4240-4f54-97c7-4a89a8347e0d",
   "metadata": {},
   "source": [
    "### ndarray 배열의 연산\n",
    "1) 기본 연산자와 함수를 통해 배열 연산하기\n",
    " - Numpy 배열의 기본 연산자 : (+, -, *, /) 또는 함수 (add, subtract, multiply, divide)\n",
    "2) dot 함수를 사용하여 행렬의 곱 계산하기"
   ]
  },
  {
   "cell_type": "code",
   "execution_count": 6,
   "id": "e6d11ab7-4435-4dc1-a774-be2a6d5e8c86",
   "metadata": {},
   "outputs": [
    {
     "name": "stdout",
     "output_type": "stream",
     "text": [
      "[[1 2]\n",
      " [3 4]]\n",
      "[[5 6]\n",
      " [7 8]]\n"
     ]
    }
   ],
   "source": [
    "## 배열 연산\n",
    "arr1 = np.arange(1,5).reshape(2,2)\n",
    "arr2 = np.arange(5,9).reshape(2,2)\n",
    "print(arr1)\n",
    "print(arr2)"
   ]
  },
  {
   "cell_type": "code",
   "execution_count": 7,
   "id": "5aac7df8-e975-4c4b-9bfe-5f0ee4408124",
   "metadata": {},
   "outputs": [
    {
     "data": {
      "text/plain": [
       "array([[ 6,  8],\n",
       "       [10, 12]])"
      ]
     },
     "execution_count": 7,
     "metadata": {},
     "output_type": "execute_result"
    }
   ],
   "source": [
    "arr1 + arr2"
   ]
  },
  {
   "cell_type": "code",
   "execution_count": 8,
   "id": "dc1c6e3b-1f7d-442d-a136-6ac056fd6870",
   "metadata": {},
   "outputs": [
    {
     "data": {
      "text/plain": [
       "array([[ 6,  8],\n",
       "       [10, 12]])"
      ]
     },
     "execution_count": 8,
     "metadata": {},
     "output_type": "execute_result"
    }
   ],
   "source": [
    "np.add(arr1, arr2)"
   ]
  },
  {
   "cell_type": "code",
   "execution_count": 9,
   "id": "154742a3-fb3c-4206-bd2b-0962a99a52ac",
   "metadata": {},
   "outputs": [
    {
     "data": {
      "text/plain": [
       "array([[ 5, 12],\n",
       "       [21, 32]])"
      ]
     },
     "execution_count": 9,
     "metadata": {},
     "output_type": "execute_result"
    }
   ],
   "source": [
    "arr1 * arr2"
   ]
  },
  {
   "cell_type": "code",
   "execution_count": 10,
   "id": "19b83bb3-6272-4f75-b97f-80072530f928",
   "metadata": {},
   "outputs": [
    {
     "data": {
      "text/plain": [
       "array([[ 5, 12],\n",
       "       [21, 32]])"
      ]
     },
     "execution_count": 10,
     "metadata": {},
     "output_type": "execute_result"
    }
   ],
   "source": [
    "np.multiply(arr1, arr2)"
   ]
  },
  {
   "cell_type": "markdown",
   "id": "d8938a88-0ff3-4b86-98d3-b87a67b68f6e",
   "metadata": {},
   "source": [
    "- dot 연산"
   ]
  },
  {
   "cell_type": "code",
   "execution_count": 11,
   "id": "f9f8f3b6-b9d8-481c-aac0-9752cff47eb4",
   "metadata": {},
   "outputs": [
    {
     "data": {
      "text/plain": [
       "(2, 2)"
      ]
     },
     "execution_count": 11,
     "metadata": {},
     "output_type": "execute_result"
    }
   ],
   "source": [
    "arr1.shape"
   ]
  },
  {
   "cell_type": "code",
   "execution_count": 12,
   "id": "0e456c44-de6c-4e5e-8213-3888d33aa9c9",
   "metadata": {},
   "outputs": [
    {
     "data": {
      "text/plain": [
       "(2, 2)"
      ]
     },
     "execution_count": 12,
     "metadata": {},
     "output_type": "execute_result"
    }
   ],
   "source": [
    "arr2.shape"
   ]
  },
  {
   "cell_type": "code",
   "execution_count": 13,
   "id": "0b137e16-b6f3-4e3d-9d7c-52e4080c2d8e",
   "metadata": {},
   "outputs": [
    {
     "data": {
      "text/plain": [
       "array([[19, 22],\n",
       "       [43, 50]])"
      ]
     },
     "execution_count": 13,
     "metadata": {},
     "output_type": "execute_result"
    }
   ],
   "source": [
    "arr1.dot(arr2)"
   ]
  },
  {
   "cell_type": "code",
   "execution_count": 14,
   "id": "c0057919-d096-4fb5-abdc-ddce672dd9db",
   "metadata": {},
   "outputs": [
    {
     "data": {
      "text/plain": [
       "array([[19, 22],\n",
       "       [43, 50]])"
      ]
     },
     "execution_count": 14,
     "metadata": {},
     "output_type": "execute_result"
    }
   ],
   "source": [
    "np.dot(arr1, arr2)"
   ]
  },
  {
   "cell_type": "markdown",
   "id": "e1eef591-a7a7-4f7e-86dd-8f42a8edb2f3",
   "metadata": {},
   "source": [
    "### ndarray 배열의 선형 대수 연산 - 전치 행렬"
   ]
  },
  {
   "cell_type": "code",
   "execution_count": 16,
   "id": "7954dc9c-f9c5-4bfa-807e-0e1967333409",
   "metadata": {},
   "outputs": [
    {
     "data": {
      "text/plain": [
       "array([[1, 2],\n",
       "       [3, 4]])"
      ]
     },
     "execution_count": 16,
     "metadata": {},
     "output_type": "execute_result"
    }
   ],
   "source": [
    "arr1"
   ]
  },
  {
   "cell_type": "code",
   "execution_count": 15,
   "id": "3ccbb769-8704-4d2c-8fdd-be97e9b98364",
   "metadata": {},
   "outputs": [
    {
     "data": {
      "text/plain": [
       "array([[1, 3],\n",
       "       [2, 4]])"
      ]
     },
     "execution_count": 15,
     "metadata": {},
     "output_type": "execute_result"
    }
   ],
   "source": [
    "np.transpose(arr1)"
   ]
  },
  {
   "cell_type": "code",
   "execution_count": 18,
   "id": "2b4753ad-27fd-46f0-9a25-558143e910cf",
   "metadata": {},
   "outputs": [
    {
     "data": {
      "text/plain": [
       "array([[1, 2],\n",
       "       [3, 4],\n",
       "       [5, 6]])"
      ]
     },
     "execution_count": 18,
     "metadata": {},
     "output_type": "execute_result"
    }
   ],
   "source": [
    "arr3 = np.arange(1,7).reshape(3,2)\n",
    "arr3"
   ]
  },
  {
   "cell_type": "code",
   "execution_count": 19,
   "id": "ded7548f-e808-4e8c-ad22-1bba48a3bfdb",
   "metadata": {},
   "outputs": [
    {
     "data": {
      "text/plain": [
       "array([[1, 3, 5],\n",
       "       [2, 4, 6]])"
      ]
     },
     "execution_count": 19,
     "metadata": {},
     "output_type": "execute_result"
    }
   ],
   "source": [
    "np.transpose(arr3)"
   ]
  },
  {
   "cell_type": "markdown",
   "id": "1b290a9b-9088-4170-b872-e73560c25256",
   "metadata": {},
   "source": [
    "### numpy와 matplotlib을 이용한 시각화\n",
    "- 시작점과 끝점을 균일 간격으로 나눈 점들을 생성해주는 linspace()함수 사용"
   ]
  },
  {
   "cell_type": "code",
   "execution_count": 20,
   "id": "8a6cbc9a-5853-408b-8e84-0f6739801286",
   "metadata": {},
   "outputs": [
    {
     "data": {
      "text/plain": [
       "array([0.        , 0.11111111, 0.22222222, 0.33333333, 0.44444444,\n",
       "       0.55555556, 0.66666667, 0.77777778, 0.88888889, 1.        ])"
      ]
     },
     "execution_count": 20,
     "metadata": {},
     "output_type": "execute_result"
    }
   ],
   "source": [
    "arr = np.linspace(0, 1, 10) # num 값을 생략하면 default shape 50\n",
    "arr"
   ]
  },
  {
   "cell_type": "code",
   "execution_count": 21,
   "id": "5c90d7f8-d1f1-43e9-a070-cd38bf1ab15f",
   "metadata": {},
   "outputs": [
    {
     "data": {
      "text/plain": [
       "array([0.        , 0.02040816, 0.04081633, 0.06122449, 0.08163265,\n",
       "       0.10204082, 0.12244898, 0.14285714, 0.16326531, 0.18367347,\n",
       "       0.20408163, 0.2244898 , 0.24489796, 0.26530612, 0.28571429,\n",
       "       0.30612245, 0.32653061, 0.34693878, 0.36734694, 0.3877551 ,\n",
       "       0.40816327, 0.42857143, 0.44897959, 0.46938776, 0.48979592,\n",
       "       0.51020408, 0.53061224, 0.55102041, 0.57142857, 0.59183673,\n",
       "       0.6122449 , 0.63265306, 0.65306122, 0.67346939, 0.69387755,\n",
       "       0.71428571, 0.73469388, 0.75510204, 0.7755102 , 0.79591837,\n",
       "       0.81632653, 0.83673469, 0.85714286, 0.87755102, 0.89795918,\n",
       "       0.91836735, 0.93877551, 0.95918367, 0.97959184, 1.        ])"
      ]
     },
     "execution_count": 21,
     "metadata": {},
     "output_type": "execute_result"
    }
   ],
   "source": [
    "arr = np.linspace(0, 1) # num 값을 생략하면 default shape 50\n",
    "arr"
   ]
  },
  {
   "cell_type": "code",
   "execution_count": 22,
   "id": "149482f7-40db-4a48-b352-dbf0d11291ac",
   "metadata": {},
   "outputs": [
    {
     "data": {
      "text/plain": [
       "array([ 0. ,  2.5,  5. ,  7.5, 10. ])"
      ]
     },
     "execution_count": 22,
     "metadata": {},
     "output_type": "execute_result"
    }
   ],
   "source": [
    "arr = np.linspace(0, 10, 5)\n",
    "arr"
   ]
  },
  {
   "cell_type": "code",
   "execution_count": 23,
   "id": "d1453268-601d-4ac0-ba80-23b8af0d1c4f",
   "metadata": {},
   "outputs": [],
   "source": [
    "import matplotlib.pyplot as plt"
   ]
  },
  {
   "cell_type": "code",
   "execution_count": 26,
   "id": "ca6644fe-3655-40ab-a120-f28ace3a5d3d",
   "metadata": {},
   "outputs": [
    {
     "data": {
      "image/png": "[encoded data removed]",
      "text/plain": [
       "<Figure size 640x480 with 1 Axes>"
      ]
     },
     "metadata": {},
     "output_type": "display_data"
    }
   ],
   "source": [
    "plt.plot(arr, \"x\")\n",
    "plt.show()"
   ]
  },
  {
   "cell_type": "code",
   "execution_count": 27,
   "id": "93642c37-e90c-4850-abfb-b4bc53b6eacc",
   "metadata": {},
   "outputs": [
    {
     "data": {
      "text/plain": [
       "array([1. , 1.5, 2. , 2.5, 3. , 3.5, 4. , 4.5, 5. , 5.5, 6. , 6.5, 7. ,\n",
       "       7.5, 8. , 8.5, 9. , 9.5])"
      ]
     },
     "execution_count": 27,
     "metadata": {},
     "output_type": "execute_result"
    }
   ],
   "source": [
    "arr = np.arange(1, 10, 0.5)\n",
    "arr"
   ]
  },
  {
   "cell_type": "code",
   "execution_count": 28,
   "id": "cdab0321-deee-4488-ae99-a970aea8ee91",
   "metadata": {},
   "outputs": [
    {
     "data": {
      "image/png": "[encoded data removed]",
      "text/plain": [
       "<Figure size 640x480 with 1 Axes>"
      ]
     },
     "metadata": {},
     "output_type": "display_data"
    }
   ],
   "source": [
    "plt.plot(arr, \"x\")\n",
    "plt.show()"
   ]
  },
  {
   "cell_type": "code",
   "execution_count": 33,
   "id": "a3035588-720c-4399-86ec-44b0248db217",
   "metadata": {},
   "outputs": [
    {
     "data": {
      "image/png": "[encoded data removed]",
      "text/plain": [
       "<Figure size 640x480 with 1 Axes>"
      ]
     },
     "metadata": {},
     "output_type": "display_data"
    }
   ],
   "source": [
    "arr = np.random.rand(1000) # 0.0 ~ 1.0 사이의 균등분포에서 난수를 추출\n",
    "plt.hist(arr, bins=50)\n",
    "plt.show()"
   ]
  },
  {
   "cell_type": "code",
   "execution_count": 35,
   "id": "995f9015-d9f7-4eaf-b763-9794625aab8c",
   "metadata": {},
   "outputs": [
    {
     "data": {
      "text/plain": [
       "array([[ 0.27237279, -2.76171999,  1.19371573, -0.33011727],\n",
       "       [-1.56774607,  0.37683684,  0.10817249, -1.19037005],\n",
       "       [-0.27721218,  1.88999561, -0.39238673,  0.68156505]])"
      ]
     },
     "execution_count": 35,
     "metadata": {},
     "output_type": "execute_result"
    }
   ],
   "source": [
    "array = np.random.randn(3, 4)  #기대값이 0이고 표준편차가 1인 가우시안 표준 정규 분포를 따르는 난수를 생성\n",
    "array"
   ]
  },
  {
   "cell_type": "code",
   "execution_count": 36,
   "id": "6ac670ee-a3ed-4d0c-8cc5-31affb560a75",
   "metadata": {},
   "outputs": [
    {
     "data": {
      "text/plain": [
       "-0.16640781561780915"
      ]
     },
     "execution_count": 36,
     "metadata": {},
     "output_type": "execute_result"
    }
   ],
   "source": [
    "np.mean(array)"
   ]
  },
  {
   "cell_type": "code",
   "execution_count": 37,
   "id": "85359ecc-b36a-4c8f-95d9-7017f6f3a6d0",
   "metadata": {},
   "outputs": [
    {
     "data": {
      "text/plain": [
       "1.1971794731548282"
      ]
     },
     "execution_count": 37,
     "metadata": {},
     "output_type": "execute_result"
    }
   ],
   "source": [
    "np.std(array)"
   ]
  },
  {
   "cell_type": "code",
   "execution_count": 38,
   "id": "8cf194e7-5ede-4e0e-b3cf-8c3580a5f304",
   "metadata": {},
   "outputs": [
    {
     "data": {
      "image/png": "[encoded data removed]",
      "text/plain": [
       "<Figure size 640x480 with 1 Axes>"
      ]
     },
     "metadata": {},
     "output_type": "display_data"
    }
   ],
   "source": [
    "array = np.random.randn(1000) \n",
    "plt.hist(array, bins=50)\n",
    "plt.show()"
   ]
  },
  {
   "cell_type": "code",
   "execution_count": 39,
   "id": "6c28bee3-8274-4b67-bd1d-f723422b065e",
   "metadata": {},
   "outputs": [
    {
     "data": {
      "image/png": "[encoded data removed]",
      "text/plain": [
       "<Figure size 640x480 with 1 Axes>"
      ]
     },
     "metadata": {},
     "output_type": "display_data"
    }
   ],
   "source": [
    "array = np.random.randint(-100, 100, 1000)\n",
    "plt.hist(array, bins=100)\n",
    "plt.show()"
   ]
  },
  {
   "cell_type": "markdown",
   "id": "32c9db4a-524a-4b8e-89f3-db0148ab5960",
   "metadata": {},
   "source": [
    "### numpy를 활용한 파일 입출력"
   ]
  },
  {
   "cell_type": "code",
   "execution_count": 42,
   "id": "5dff280f-855f-4b9d-b5d7-e00f82b7b737",
   "metadata": {},
   "outputs": [],
   "source": [
    "arr1 = np.random.randint(0, 10, (2, 3))\n",
    "np.save(\"test_arr1\", arr1)"
   ]
  },
  {
   "cell_type": "code",
   "execution_count": 44,
   "id": "415c8d80-c33b-44af-8aaf-11eec3ebb1b8",
   "metadata": {},
   "outputs": [
    {
     "data": {
      "text/plain": [
       "array([[7, 3, 7],\n",
       "       [6, 0, 6]])"
      ]
     },
     "execution_count": 44,
     "metadata": {},
     "output_type": "execute_result"
    }
   ],
   "source": [
    "npyfile = np.load(\"test_arr1.npy\")\n",
    "npyfile"
   ]
  },
  {
   "cell_type": "markdown",
   "id": "fe849bd7-166e-43b2-8a1b-48080568ca45",
   "metadata": {},
   "source": [
    "- csv 파일의 저장과 로드"
   ]
  },
  {
   "cell_type": "code",
   "execution_count": 45,
   "id": "e9a2a987-d20c-40a5-946d-de64222934c7",
   "metadata": {},
   "outputs": [
    {
     "data": {
      "text/plain": [
       "array([[1, 2, 3],\n",
       "       [4, 5, 6],\n",
       "       [7, 8, 9]])"
      ]
     },
     "execution_count": 45,
     "metadata": {},
     "output_type": "execute_result"
    }
   ],
   "source": [
    "arr = np.arange(1, 10).reshape(3,3)\n",
    "arr"
   ]
  },
  {
   "cell_type": "code",
   "execution_count": 46,
   "id": "7935f108-8fdc-4f2c-b8ef-a28f638db914",
   "metadata": {},
   "outputs": [],
   "source": [
    "np.savetxt(\"test_csv.csv\", arr)"
   ]
  },
  {
   "cell_type": "code",
   "execution_count": 51,
   "id": "9c01f432-7cb5-4757-a58d-dadaf760e1bd",
   "metadata": {},
   "outputs": [
    {
     "name": "stderr",
     "output_type": "stream",
     "text": [
      "C:\\Users\\jtkim\\AppData\\Local\\Temp\\ipykernel_24832\\396415772.py:1: DeprecationWarning: loadtxt(): Parsing an integer via a float is deprecated.  To avoid this warning, you can:\n",
      "    * make sure the original data is stored as integers.\n",
      "    * use the `converters=` keyword argument.  If you only use\n",
      "      NumPy 1.23 or later, `converters=float` will normally work.\n",
      "    * Use `np.loadtxt(...).astype(np.int64)` parsing the file as\n",
      "      floating point and then convert it.  (On all NumPy versions.)\n",
      "  (Deprecated NumPy 1.23)\n",
      "  csvfile = np.loadtxt(\"test_csv.csv\", dtype = np.int32)\n"
     ]
    },
    {
     "data": {
      "text/plain": [
       "array([[1, 2, 3],\n",
       "       [4, 5, 6],\n",
       "       [7, 8, 9]])"
      ]
     },
     "execution_count": 51,
     "metadata": {},
     "output_type": "execute_result"
    }
   ],
   "source": [
    "csvfile = np.loadtxt(\"test_csv.csv\", dtype = np.int32)\n",
    "csvfile"
   ]
  },
  {
   "cell_type": "code",
   "execution_count": null,
   "id": "238aa119-4907-4358-9c97-08320d96a06e",
   "metadata": {},
   "outputs": [],
   "source": []
  }
 ],
 "metadata": {
  "kernelspec": {
   "display_name": "Python 3 (ipykernel)",
   "language": "python",
   "name": "python3"
  },
  "language_info": {
   "codemirror_mode": {
    "name": "ipython",
    "version": 3
   },
   "file_extension": ".py",
   "mimetype": "text/x-python",
   "name": "python",
   "nbconvert_exporter": "python",
   "pygments_lexer": "ipython3",
   "version": "3.11.7"
  }
 },
 "nbformat": 4,
 "nbformat_minor": 5
}
