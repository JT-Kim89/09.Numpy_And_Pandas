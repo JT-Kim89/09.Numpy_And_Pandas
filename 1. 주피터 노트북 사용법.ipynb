{
 "cells": [
  {
   "cell_type": "markdown",
   "id": "50a8425a-1524-4558-a116-840edc923c12",
   "metadata": {},
   "source": [
    "# 1. 제목 만들기\n",
    "## 제목2\n",
    "### 제목3\n",
    "#### 제목4\n",
    "##### 제목5\n",
    "###### 제목6"
   ]
  },
  {
   "cell_type": "markdown",
   "id": "439f0f11-60d5-403e-a2ad-a83c23692071",
   "metadata": {},
   "source": [
    "# 2. 목록 만들기\n",
    "- 리스트1\n",
    "- 리스트2\n",
    "- 리스트3"
   ]
  },
  {
   "cell_type": "markdown",
   "id": "39899cae-0d55-4584-9d6b-0ad502ae607f",
   "metadata": {},
   "source": [
    "# 3. 이미지 가져오기\n",
    "<img src=\"python-logo-only.png\">"
   ]
  },
  {
   "cell_type": "markdown",
   "id": "59b4b1e3-b85f-4813-9d76-e052bfbc351f",
   "metadata": {},
   "source": [
    "# 4. 표 만들기\n",
    "| 구분 | 의미 | 비고 |\n",
    "| --- | :---: | ---:|\n",
    "| `주피터` | 주피터 사용법 | `파이참` |\n",
    "| `Numpy` | Python의 수학 계산기 |  |\n",
    "| `Pandas` | Python의 엑셀 |  |\n",
    "| `Matplotlib` | Python 차트 |  |\n"
   ]
  },
  {
   "cell_type": "code",
   "execution_count": 1,
   "id": "5c3501ce-dcb0-479c-b909-7e8efe707a35",
   "metadata": {},
   "outputs": [
    {
     "name": "stdout",
     "output_type": "stream",
     "text": [
      "Hello~ Python!!!\n"
     ]
    }
   ],
   "source": [
    "print(\"Hello~ Python!!!\")"
   ]
  },
  {
   "cell_type": "code",
   "execution_count": null,
   "id": "1528b85a-a8f1-4237-baa4-5938cd93f93f",
   "metadata": {},
   "outputs": [],
   "source": []
  },
  {
   "cell_type": "code",
   "execution_count": null,
   "id": "2daf1cd5-5632-4e4e-a081-fc26c9b64258",
   "metadata": {},
   "outputs": [],
   "source": []
  }
 ],
 "metadata": {
  "kernelspec": {
   "display_name": "Python 3 (ipykernel)",
   "language": "python",
   "name": "python3"
  },
  "language_info": {
   "codemirror_mode": {
    "name": "ipython",
    "version": 3
   },
   "file_extension": ".py",
   "mimetype": "text/x-python",
   "name": "python",
   "nbconvert_exporter": "python",
   "pygments_lexer": "ipython3",
   "version": "3.11.7"
  }
 },
 "nbformat": 4,
 "nbformat_minor": 5
}
